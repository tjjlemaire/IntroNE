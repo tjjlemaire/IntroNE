{
 "cells": [
  {
   "cell_type": "markdown",
   "metadata": {
    "tags": []
   },
   "source": [
    "# Interactive tutorial: extracellular electrical stimulation\n",
    "\n",
    "## Objectives:\n",
    "- Develop a **biophysical understanding** of the driving forces mediating the **excitation of neurons** upon exposure to **extracellular electrical fields**.\n",
    "- Understand the concept of **activating function** as a predictor of neural excitability\n",
    "- Gain an **intuitive insight** of the **impact of various features on neural excitability**, namely:\n",
    "    - *current polarity and intensity*\n",
    "    - *pulse duration*\n",
    "    - *electrode-axon relative positioning*\n",
    "    - *neuron morphology*\n",
    "    - *medium properties*\n",
    "\n",
    "To study these concepts, we will again turn to *computational modeling*, which consitutes an optimal tool to dissect biophysical interactions."
   ]
  },
  {
   "cell_type": "markdown",
   "metadata": {},
   "source": [
    "## Imports"
   ]
  },
  {
   "cell_type": "code",
   "execution_count": null,
   "metadata": {},
   "outputs": [],
   "source": [
    "%matplotlib widget\n",
    "from ipywidgets import Layout, FloatSlider, FloatLogSlider\n",
    "from axons import MyelinatedAxon\n",
    "from medium import VolumeConductor\n",
    "from stimulus import ExtracellularCurrentPulseTrain\n",
    "from neuronsims import Simulation, copy_slider, interactive_display\n",
    "from logger import logger"
   ]
  },
  {
   "cell_type": "markdown",
   "metadata": {
    "tags": []
   },
   "source": [
    "## Basic model components\n",
    "\n",
    "We will start by modeling the 3 components composing our system of interest, namely:\n",
    "- **a spatially extended neuron model**\n",
    "- **an electrically conducting extracellular medium**\n",
    "- **a point-source electrode delivering a stimulation current** \n",
    "\n",
    "As you have seen during the course, the electrical excitability of neural structures depends on multiple factors such as neuronal morphology and the spatial distribution of the induced extracellular potential around them.\n",
    "\n",
    "These interactions can be difficult to interpret if we consider the complex 3D $(x, y, z)$ morphology of brain neurons. Therefore, we will leverage here a simplified system, made of a **peripheral axon segment running on a straight line in a nerve**. The morphological and geometrical simplicity of this system allows us to analyze stimulus-neuron interactions on a projected $(xz)$ plane, where $x$ is the direction of the axon and $z$ is the perpendicular direction."
   ]
  },
  {
   "cell_type": "markdown",
   "metadata": {},
   "source": [
    "### Axon model\n",
    "\n",
    "We are going to use a double-cable, multi-compartment model of a myelinated axon as defined in [McIntyre et al. 2002](https://doi.org/10.1152/jn.00353.2001). Because it incorporates a highly realistic morphology of the spatially distributed neural membrane, this so-called *MRG model* is a consolidated biophysical model used to study the excitability of myelinated axons by electrical fields.\n",
    "\n",
    "Note that this model is parameterized as a function of *axon diameter* and number of *nodes of Ranvier*, such that it can be used to model myelinated axons or arbitrary diameters and lengths.\n",
    "\n",
    "We will start by defining a \"typical\" axon of 20 μm diameter and comprising 101 nodes. Knowing that internodal distance roughly equals 100 times the axon diameter, that corresponds to an axon length of about `100*100*20 = 200'000 μm = 20 cm`, which is more than enough to study local interactions around the axon's mid-point with little to no \"edge\" effects."
   ]
  },
  {
   "cell_type": "code",
   "execution_count": null,
   "metadata": {},
   "outputs": [],
   "source": [
    "axon = MyelinatedAxon(\n",
    "    diameter=20,  # um\n",
    "    nnodes=101\n",
    ")\n",
    "logger.info(f'axon is {axon.length / 1e4:.2f} cm long')"
   ]
  },
  {
   "cell_type": "markdown",
   "metadata": {},
   "source": [
    "### Extracellular medium\n",
    "\n",
    "To start with, we will model the extracellular medium as an isotropic volume conductor model with a conductivity corresponding to that of grey matter reported in [Hasgall et al. 2022](https://itis.swiss/virtual-population/tissue-properties/database/dielectric-properties/) (σ=0.56 S/m).\n",
    "\n",
    "As a recall, for problems of involving frequencies < 3 kHz, it can be assumed that voltage distributions in the extracellular medium are purely governed by ohmic terms, i.e. that they *adapt intstantaneously to any change in current sources*. Under these circumstances, the electric potential $φ$ in the extracellular space is governed by Laplace’s equation:\n",
    "\n",
    "$$∇ \\cdot (σ∇φ) = 0$$\n",
    "\n",
    "And for each punctual current source $I$ we then have:\n",
    "\n",
    "$$σ∇φ = I$$\n",
    "\n",
    "Assuming that extracellular conductivity is isotropic, the problem becomes spherically symmetric, yielding the following solution to the extracellular potential at a distance $r$ from the source:\n",
    "\n",
    "$$φ(r) = \\frac{I}{4πσr}$$"
   ]
  },
  {
   "cell_type": "code",
   "execution_count": null,
   "metadata": {},
   "outputs": [],
   "source": [
    "medium = VolumeConductor(sigma=0.56)"
   ]
  },
  {
   "cell_type": "markdown",
   "metadata": {},
   "source": [
    "### Stimulus\n",
    "\n",
    "To start with, we will consider the simple case of a point source electrode located 100 μm above the axon central node, injecting brief 100 μs pulses of cathodic current in the extracellular medium."
   ]
  },
  {
   "cell_type": "code",
   "execution_count": null,
   "metadata": {},
   "outputs": [],
   "source": [
    "stim = ExtracellularCurrentPulseTrain(\n",
    "    pos=(0., 0., 100.),  # um\n",
    "    I=-10.,  # uA\n",
    "    tpulse=.1,  # ms\n",
    "    npulses = 2,\n",
    "    PRF = 0.2,  # kHz\n",
    "    tstart=2. # ms\n",
    ")"
   ]
  },
  {
   "cell_type": "markdown",
   "metadata": {},
   "source": [
    "Let's assemble all our model components into a simulation object, and visualize our system configuration:"
   ]
  },
  {
   "cell_type": "code",
   "execution_count": null,
   "metadata": {},
   "outputs": [],
   "source": [
    "sim = Simulation(axon, medium, stim)\n",
    "fig = sim.plot_config()"
   ]
  },
  {
   "cell_type": "markdown",
   "metadata": {},
   "source": [
    "### Recall: the *activating function*\n",
    "\n",
    "Throughout this tutorial, we will regularly refer to the concept of ***activating function*** in order to predict neural excitability under various conditions of extracellular electrical stimulation. As you have seen during the course, the activating function is defined as the *second spatial derivative of the extracellular potential along the neuron membrane*. In our simplified system, this relationship can be expressed as:\n",
    "\n",
    "$$Ψ = \\frac{d^2φ}{dx^2}$$\n",
    "\n",
    "where $φ$ represents teh extracellular potential and $x$ is the axial position along the axon."
   ]
  },
  {
   "cell_type": "markdown",
   "metadata": {},
   "source": [
    "## Impact of stimulation polarity (cathodic vs anodic)\n",
    "\n",
    "We will first investigate the impact of stimulation polarity on the excitability of our neuron model."
   ]
  },
  {
   "cell_type": "markdown",
   "metadata": {},
   "source": [
    "### Predictions\n",
    "We will first have a look at how current polarity and intensity impact the activating function."
   ]
  },
  {
   "cell_type": "code",
   "execution_count": null,
   "metadata": {
    "tags": []
   },
   "outputs": [],
   "source": [
    "slider_layout = Layout(width='500px')\n",
    "Islider = FloatSlider(\n",
    "    description='I (uA)', min=-30, max=150, value=-1, step=5, continuous_update=False, layout=slider_layout)\n",
    "\n",
    "def update(sim, I, **kwargs):\n",
    "    sim.stim.I = I\n",
    "    return sim.plot_profiles(**kwargs)\n",
    "\n",
    "interactive_display(sim, update, Islider);"
   ]
  },
  {
   "cell_type": "markdown",
   "metadata": {
    "tags": []
   },
   "source": [
    "#### Questions:\n",
    "\n",
    "- *What is the nature of the extracellular potential profile along the axon?*\n",
    "- *What is the nature of the activating function profile along the axon?*\n",
    "- *How are those profiles affected by the current intensity and polarity?* \n",
    "- *Based on the profiles of the activating function, where do you expect the axon to be excited for cathodic stimuation ($I < 0$)? And for anodic stimulation ($I> 0$)?*\n",
    "- *Based on these results, what type of stimulation (cathodic or anodic) will be more efficient?*"
   ]
  },
  {
   "cell_type": "markdown",
   "metadata": {
    "tags": []
   },
   "source": [
    "### Simulations\n",
    "\n",
    "Let's verify the predictions formulated above by performing full-fledged simulations our our system."
   ]
  },
  {
   "cell_type": "code",
   "execution_count": null,
   "metadata": {},
   "outputs": [],
   "source": [
    "def update(sim, I, **kwargs):\n",
    "    sim.stim.I = I\n",
    "    tvec, vnodes = sim.run()\n",
    "    return sim.plot_results(tvec, vnodes, **kwargs)\n",
    "\n",
    "interactive_display(sim, update, Islider);"
   ]
  },
  {
   "cell_type": "markdown",
   "metadata": {},
   "source": [
    "#### Questions:\n",
    "\n",
    "- *What is the minimum current required to trigger an action potential with an **anodic** source? And with a **cathodic** source?*\n",
    "- *At which locations is the axon initially excited with **cathodic** stimulation? And with **anodic** stimulation?*\n",
    "- *How do these observations compare to predictions of the activating function?*"
   ]
  },
  {
   "cell_type": "markdown",
   "metadata": {
    "tags": []
   },
   "source": [
    "## Impact of pulse duration\n",
    "\n",
    "Now that we've established how and why cathodic stimulation is a the more efficient extracellular stimulation polarity, let's analyze the impact of the pulse duration on neural excitability.\n",
    "\n",
    "Because the pulse duration is not directly related with the spatial features of our system, its impact cannot be predicted through the prism of the activating function. Hence we will analyze it by simply running simulations of our system."
   ]
  },
  {
   "cell_type": "code",
   "execution_count": null,
   "metadata": {},
   "outputs": [],
   "source": [
    "Islider2 = copy_slider(Islider, min=-70, max=0, step=1)\n",
    "PWslider = FloatLogSlider(\n",
    "    description='PW (ms)', base=10, min=-2, max=1, value=0.1, step=0.2, continuous_update=False, layout=slider_layout)\n",
    "\n",
    "def update(sim, I, PW, **kwargs):\n",
    "    sim.stim.I = I\n",
    "    sim.stim.tpulse = PW\n",
    "    tvec, vnodes = sim.run()\n",
    "    return sim.plot_results(tvec, vnodes, **kwargs)\n",
    "    \n",
    "interactive_display(sim, update, Islider2, PWslider);"
   ]
  },
  {
   "cell_type": "markdown",
   "metadata": {},
   "source": [
    "#### Questions:\n",
    "\n",
    "- *Using a cathodic source, what is the excitation threshold current for pulses of a 10 μs long pulse? What about 100 μs, 1 ms, 5 ms?*\n",
    "- *What can you say about the evolution of the threshold excitation current as a function of pulse duration?*\n",
    "- *Which theoretical concept does that illustrate?*"
   ]
  },
  {
   "cell_type": "markdown",
   "metadata": {
    "tags": []
   },
   "source": [
    "## Impact of electrode-axon distance\n",
    "\n",
    "Beyond the core characteristics of the stimulus, neural excitability is obviously impacted by the geometrical arrangement between the current source (the electrode) and the neural target (the axon). We will analyze here the impact of electrode-axon distance on excitation thresholds in our simplified system. "
   ]
  },
  {
   "cell_type": "markdown",
   "metadata": {},
   "source": [
    "### Predictions\n",
    "We will first have a look at electrode-neuron distance impacts the activating function."
   ]
  },
  {
   "cell_type": "code",
   "execution_count": null,
   "metadata": {
    "tags": []
   },
   "outputs": [],
   "source": [
    "DZslider = FloatLogSlider(\n",
    "    description='Δz (um)', base=10, min=0.8, max=3, value=10., step=0.2, continuous_update=False, layout=slider_layout)\n",
    "\n",
    "def update(sim, dz, **kwargs):\n",
    "    sim.stim.pos = (0., 0., dz)\n",
    "    return sim.plot_profiles(**kwargs)\n",
    "\n",
    "interactive_display(sim, update, DZslider);"
   ]
  },
  {
   "cell_type": "markdown",
   "metadata": {},
   "source": [
    "#### Questions\n",
    "\n",
    "- *How does electrode-axon distance impact the extracellular voltage profile along the axon?*\n",
    "- *What about the impact on the activating function?*\n",
    "- *Based on these results, do you expect excitation thresholds to increase or decrease as the electrode-axon distance increases?*"
   ]
  },
  {
   "cell_type": "markdown",
   "metadata": {},
   "source": [
    "### Simulations\n",
    "\n",
    "Let's verify the predictions formulated above by performing full-fledged simulations our our system."
   ]
  },
  {
   "cell_type": "code",
   "execution_count": null,
   "metadata": {},
   "outputs": [],
   "source": [
    "Islider3 = copy_slider(Islider2, min=-300)\n",
    "def update(sim, I, dz, **kwargs):\n",
    "    sim.stim.I = I\n",
    "    sim.stim.pos = (0., 0., dz)\n",
    "    sim.rel_phis = sim.get_phi(sim.axon.xsections)\n",
    "    tvec, vnodes = sim.run()\n",
    "    return sim.plot_results(tvec, vnodes, **kwargs)\n",
    "\n",
    "interactive_display(sim, update, Islider3, DZslider);"
   ]
  },
  {
   "cell_type": "markdown",
   "metadata": {},
   "source": [
    "### Questions:\n",
    "\n",
    "- *Using a cathodic source, what is the excitation threshold current for an electrode located 10 μm away from the axon? What about 100 μm, 1 mm?*\n",
    "- *What can you say about the evolution of the threshold excitation current as a function of electrode-axon distance?*\n",
    "- *How do these observations compare to predictions of the activating function?*"
   ]
  },
  {
   "cell_type": "markdown",
   "metadata": {},
   "source": [
    "## Impact of medium conductivity\n",
    "\n",
    "Beyond the electrode-neuron geometrical arrangement, extracellular voltage distributions and the resulting neural excitability are also impacted by the **medium's dielectric properties**. In particular, for quasi-static problems ($f < 3 kHz$), the electrical field redistribution inside the medium is governed by its electrical conductivity σ, which varies significantly in amplitude and anisotropy across brain regions. \n",
    "\n",
    "We will analyze here the impact of the medium electrical conductivity on neural excitability on our simplified system. "
   ]
  },
  {
   "cell_type": "markdown",
   "metadata": {},
   "source": [
    "### Predictions\n",
    "We will first have a look at how medium conductivity impacts the activating function."
   ]
  },
  {
   "cell_type": "code",
   "execution_count": null,
   "metadata": {
    "tags": []
   },
   "outputs": [],
   "source": [
    "sigmaslider = FloatLogSlider(\n",
    "    description='σ (S/m)', base=10, min=-1, max=1, value=.56, step=0.2, continuous_update=False, layout=slider_layout)\n",
    "\n",
    "def update(sim, sigma, **kwargs):\n",
    "    sim.medium.sigma = sigma\n",
    "    return sim.plot_profiles(**kwargs)\n",
    "\n",
    "interactive_display(sim, update, sigmaslider);"
   ]
  },
  {
   "cell_type": "markdown",
   "metadata": {},
   "source": [
    "#### Questions\n",
    "\n",
    "- *What is the impact of medium conductivity on the profile of extracellular voltage along the axon?*\n",
    "- *What about its impact on the activating function?*\n",
    "- *Based on these results, do you expect excitation thresholds to increase or decrease as the medium conductivity increases?*"
   ]
  },
  {
   "cell_type": "markdown",
   "metadata": {},
   "source": [
    "### Simulations\n",
    "\n",
    "Let's verify the predictions formulated above by performing full-fledged simulations our our system."
   ]
  },
  {
   "cell_type": "code",
   "execution_count": null,
   "metadata": {
    "tags": []
   },
   "outputs": [],
   "source": [
    "def update(sim, I, sigma, **kwargs):\n",
    "    sim.stim.I = I\n",
    "    sim.medium.sigma = sigma\n",
    "    sim.rel_phis = sim.get_phi(sim.axon.xsections)\n",
    "    tvec, vnodes = sim.run()\n",
    "    return sim.plot_results(tvec, vnodes, **kwargs)\n",
    "\n",
    "interactive_display(sim, update, Islider2, sigmaslider);"
   ]
  },
  {
   "cell_type": "markdown",
   "metadata": {},
   "source": [
    "### Questions:\n",
    "\n",
    "- *Using a cathodic source, what is the excitation threshold current for a medium conductivity of 1 S/m? What about 10 S/m?*\n",
    "- *What can you say about the evolution of the threshold excitation current as a function of medium conductivity?*\n",
    "- *How do these observations compare to predictions of the activating function?*"
   ]
  },
  {
   "cell_type": "markdown",
   "metadata": {},
   "source": [
    "## Impact of morphology\n",
    "\n",
    "Beyond stimulus parameters, electrode-neuron relative positioning and medium properties, we also know from empirical observations that neuronal morphology (i.e. the structure and spatial distribution of the different parts of a neuron) greatly impacts excitability by electrical fields.\n",
    "\n",
    "In our simplified system, we can analyze this impact by varying the axon outer diameter and assessing the resulting changes."
   ]
  },
  {
   "cell_type": "markdown",
   "metadata": {},
   "source": [
    "### Predictions\n",
    "We will first have a look at how axon diameter impacts the activating function."
   ]
  },
  {
   "cell_type": "code",
   "execution_count": null,
   "metadata": {},
   "outputs": [],
   "source": [
    "dslider = FloatSlider(\n",
    "    description='diam (μm)', min=3, max=20, value=10, step=1, continuous_update=False, layout=slider_layout)\n",
    "\n",
    "def update(sim, d, **kwargs):\n",
    "    sim.axon.diameter = d\n",
    "    return sim.plot_profiles(**kwargs)\n",
    "\n",
    "interactive_display(sim, update, dslider);"
   ]
  },
  {
   "cell_type": "markdown",
   "metadata": {},
   "source": [
    "#### Questions\n",
    "\n",
    "- *What is the impact of axon diameter on the profile of extracellular voltage along the axon?*\n",
    "- *What about its impact on the activating function?*\n",
    "- *Based on these results, do you expect excitation thresholds to increase or decrease as the axon diameter increases?*"
   ]
  },
  {
   "cell_type": "markdown",
   "metadata": {},
   "source": [
    "### Simulations\n",
    "\n",
    "Let's verify the predictions formulated above by performing full-fledged simulations our our system."
   ]
  },
  {
   "cell_type": "code",
   "execution_count": null,
   "metadata": {},
   "outputs": [],
   "source": [
    "def update(sim, I, d, **kwargs):\n",
    "    sim.stim.I = I\n",
    "    sim.axon.diameter = d\n",
    "    sim.rel_phis = sim.get_phi(sim.axon.xsections)\n",
    "    tvec, vnodes = sim.run()\n",
    "    return sim.plot_results(tvec, vnodes, **kwargs)\n",
    "\n",
    "interactive_display(sim, update, Islider2, dslider);"
   ]
  },
  {
   "cell_type": "markdown",
   "metadata": {
    "jp-MarkdownHeadingCollapsed": true,
    "tags": []
   },
   "source": [
    "### Questions:\n",
    "\n",
    "- *Using a cathodic source, what is the excitation threshold current for a myelinated axon of 5 μm outer diameter? What about 10 μm, 20 μm?*\n",
    "- *What can you say about the evolution of the threshold excitation current as a function of axon outer diameter?*\n",
    "- *How do these observations compare to predictions of the activating function?*\n",
    "- *How does this trend compare to the natural recruitment order of neural fibers?*"
   ]
  },
  {
   "cell_type": "markdown",
   "metadata": {},
   "source": [
    "## Conclusions\n",
    "\n",
    "This tutorial should have given you a good intuition of the impact of the following features on neural excitability:\n",
    "- **current polarity, intensity and duration**\n",
    "- **electrode-axon relative positioning**\n",
    "- **neuron morphology**\n",
    "- **medium properties**"
   ]
  }
 ],
 "metadata": {
  "kernelspec": {
   "display_name": "introne",
   "language": "python",
   "name": "python3"
  },
  "language_info": {
   "codemirror_mode": {
    "name": "ipython",
    "version": 3
   },
   "file_extension": ".py",
   "mimetype": "text/x-python",
   "name": "python",
   "nbconvert_exporter": "python",
   "pygments_lexer": "ipython3",
   "version": "3.8.12"
  }
 },
 "nbformat": 4,
 "nbformat_minor": 4
}
