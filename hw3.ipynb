{
 "cells": [
  {
   "cell_type": "markdown",
   "id": "e225f7a7",
   "metadata": {},
   "source": [
    "# Homework 3 - analysis of functional calcium fluorescence signals\n",
    "\n",
    "In this homework, you will analyze some calcium fluorescence signals for various dimensionalities and spatial resolutions."
   ]
  },
  {
   "cell_type": "markdown",
   "id": "b833b540",
   "metadata": {},
   "source": [
    "## Imports"
   ]
  },
  {
   "cell_type": "code",
   "execution_count": null,
   "id": "c98383db-b057-40b4-a8b1-c98dd3aed55a",
   "metadata": {},
   "outputs": [],
   "source": [
    "import numpy as np\n",
    "from scipy import signal\n",
    "import matplotlib.pyplot as plt\n",
    "from tiffutils import loadtif, viewstack, plot_frame, load_traces, plot_traces"
   ]
  },
  {
   "cell_type": "markdown",
   "id": "6e7fd578",
   "metadata": {},
   "source": [
    "## Constants"
   ]
  },
  {
   "cell_type": "code",
   "execution_count": null,
   "id": "bdcff9bb",
   "metadata": {},
   "outputs": [],
   "source": [
    "UM_PER_PX = 2.0  # movie spatial resolution (um/pixel)\n",
    "FS = 3.56  # movie & timeseries sampling frequency (Hz)\n",
    "TSTIM = 2.8  # time of stimulus occurence for each trial (s)"
   ]
  },
  {
   "cell_type": "markdown",
   "id": "830fb3df",
   "metadata": {},
   "source": [
    "## Task 1: compute an efficient projection image from a calcium fluorescence movie"
   ]
  },
  {
   "cell_type": "markdown",
   "id": "e8310ab0",
   "metadata": {},
   "source": [
    "### Input data\n",
    "\n",
    "Your input data consists of a movie depicting the calcium fluorescence activity recorded in a 0.5 by 0.5 mm plane located in layers 2-3 of the mouse cortex, and saved as a TIF stack."
   ]
  },
  {
   "cell_type": "code",
   "execution_count": null,
   "id": "8bcc28b7-a697-454a-ad85-60ff3c3c5fba",
   "metadata": {},
   "outputs": [],
   "source": [
    "# Load recording\n",
    "movie = loadtif('data/hw3_data/movie.tif')\n",
    "# View recording interactively\n",
    "viewstack(movie, fs=FS)"
   ]
  },
  {
   "cell_type": "markdown",
   "id": "178e2d9e",
   "metadata": {},
   "source": [
    "Your task is to **define a simple function that can project the movie onto a 2D image on which cells can be identified**:"
   ]
  },
  {
   "cell_type": "code",
   "execution_count": null,
   "id": "096cbd05-9bc8-433d-981d-ccf6b005e302",
   "metadata": {},
   "outputs": [],
   "source": [
    "def project(movie):\n",
    "    '''\n",
    "    Project a 3D movie onto a 2D image\n",
    "\n",
    "    :param movie: 3D (nframes, nx, ny) array representing the movie\n",
    "    :return: 2D (nx, ny) array representingt the projection image\n",
    "    '''\n",
    "    # YOUR FUNCTION CODE GOES HERE\n",
    "\n",
    "# Get projected image\n",
    "proj = project(movie)\n",
    "# Plot it\n",
    "fig = plot_frame(proj, title='projection image', um_per_px=UM_PER_PX)"
   ]
  },
  {
   "cell_type": "markdown",
   "id": "8e4cf5d7",
   "metadata": {},
   "source": [
    "#### Questions\n",
    "\n",
    "Based on your results:\n",
    "- *How do you interpret the cross-correlogram of eah cell with itself?*\n",
    "- *Which pair of cells seems to be the most synchronized? Which seems to be the least?*\n",
    "- *What is the order of magnitude of the desynchronization between cells (in seconds)?*"
   ]
  },
  {
   "cell_type": "markdown",
   "id": "ba81bf72",
   "metadata": {},
   "source": [
    "YOUR RESPONSE GOES HERE"
   ]
  },
  {
   "cell_type": "markdown",
   "id": "cbfc3a01",
   "metadata": {},
   "source": [
    "## Task 2: Analyze extracted single cell fluorescence traces"
   ]
  },
  {
   "cell_type": "markdown",
   "id": "d106b659",
   "metadata": {},
   "source": [
    "### Input data\n",
    "\n",
    "Your input data consists of the normalized ΔF/F0 calcium fluorescence traces of 5 cells, extracted form the above movie. The times of occurence of an external stimulus are also given to you."
   ]
  },
  {
   "cell_type": "code",
   "execution_count": null,
   "id": "744f045e",
   "metadata": {},
   "outputs": [],
   "source": [
    "# Load recordings\n",
    "dff_traces, ntrials, npertrial = load_traces('data/hw3_data/traces.csv')\n",
    "dff_traces"
   ]
  },
  {
   "cell_type": "code",
   "execution_count": null,
   "id": "30febb46",
   "metadata": {},
   "outputs": [],
   "source": [
    "# Compute times of stimulus occurence in recordings\n",
    "tstims = np.arange(ntrials) * npertrial / FS + TSTIM\n",
    "# Plot recordings\n",
    "fig = plot_traces(dff_traces, delimiters=tstims, fs=FS)"
   ]
  },
  {
   "cell_type": "markdown",
   "id": "7f92b4b5",
   "metadata": {},
   "source": [
    "### Task 2a: evaluate sensitivity to stimulus\n",
    "\n",
    "From visual inspection of the above graphs, it is obvious that these 5 cells are all responding to the presented stimulus, but with different sensitivities that can be hard to identify. \n",
    "\n",
    "Your task is therefore to **extract and plot the average trace of the response of each cell to the presented stimulus**.\n",
    "\n",
    "*Hint: the traces are stored in a pandas dataframe object called `dff_traces`. You can work with it directly, or with its underlying numpy array (`dff_traces.values` attribute)*"
   ]
  },
  {
   "cell_type": "code",
   "execution_count": null,
   "id": "6db30522",
   "metadata": {},
   "outputs": [],
   "source": [
    "# YOUR ANALYSIS CODE GOES HERE"
   ]
  },
  {
   "cell_type": "markdown",
   "id": "2d9d1204",
   "metadata": {},
   "source": [
    "#### Questions\n",
    "\n",
    "Based on your results:\n",
    "- *What seems to be the typical shape of the calcium fluoresence trace in response to the stimulus presentation? Does that shape make sense to you?*    \n",
    "- *Which cell seems to be the most sensitive to the stimulus?*\n",
    "- *What is the approximate latency to the peak response aplitude from the stimulus?*"
   ]
  },
  {
   "cell_type": "markdown",
   "id": "973fe03c",
   "metadata": {},
   "source": [
    "YOUR RESPONSE GOES HERE"
   ]
  },
  {
   "cell_type": "markdown",
   "id": "4d4ed929",
   "metadata": {},
   "source": [
    "### Task 2b: evaluate the correlation in activity across cells\n",
    "\n",
    "From visual inspection of the graphs, it is obvious that the 5 cells all have some degree of correlation in their activity traces. But which exactly? \n",
    "\n",
    "To find out more, your task is to **extract and plot the activity cross-correlogram between each pair of cells**. More specifically, you need to:\n",
    "- implement a function `cross_correlate` that computes the cross-correlation signal between two signals. *Hint: you can have a look at the `scipy.signal.correlate` function.*\n",
    "- implement a function `plot_cross_correlogram` that plots the cross-correlogram between to signals, over a range of lags that best suits the underlying physiological problem. \n",
    "- implement an analysis code that uses these functions to display the cross-correlograms between each pair of cells.\n"
   ]
  },
  {
   "cell_type": "code",
   "execution_count": null,
   "id": "729910b9",
   "metadata": {},
   "outputs": [],
   "source": [
    "def cross_correlate(s1, s2):\n",
    "    '''\n",
    "    Extract the cross-correlation between two 1-dimensional signals\n",
    "    \n",
    "    :param s1: first input signal (pandas Series or 1D array)\n",
    "    :param s2: second input signal (pandas Series or 1D array)\n",
    "    :return:\n",
    "        - 1D array containing discrete linear cross-correlation of s1 with s2\n",
    "        - 1D array of the corresponding index lags between s1 and s2 \n",
    "        - optimal index lag yielding the highest correlation between s1 and s2\n",
    "    '''\n",
    "    # YOUR FUNCTION CODE GOES HERE\n",
    "\n",
    "\n",
    "def plot_cross_correlogram(s1, s2, fs=None, ax=None, lag_bounds=None,\n",
    "                           title=True, xlabel=True, ylabel=True):\n",
    "    '''\n",
    "    Extract and plot the cross-correlogram between 2 signals\n",
    "    \n",
    "    :param s1: first input signal\n",
    "    :param s2: second input signal\n",
    "    :param fs (optional): sampling frequency (Hz)\n",
    "    :param lag_bounds (optional): bounding values for the lag axis\n",
    "    :return: figure handle\n",
    "    '''\n",
    "    # YOUR FUNCTION CODE GOES HERE\n",
    "\n",
    "# YOUR ANALYSIS CODE GOES THERE"
   ]
  },
  {
   "cell_type": "markdown",
   "id": "f7f7e716",
   "metadata": {},
   "source": [
    "#### Questions\n",
    "\n",
    "Based on your results:\n",
    "- *How do you interpret the cross-correlogram of each cell with itself?*\n",
    "- *Which pair of cells seems to be the most synchronized? Which seems to be the least?*\n",
    "- *What is the order of magnitude of the desynchronization between cells (in seconds)?*"
   ]
  },
  {
   "cell_type": "markdown",
   "id": "ba81bf72",
   "metadata": {},
   "source": [
    "YOUR RESPONSE GOES HERE"
   ]
  }
 ],
 "metadata": {
  "interpreter": {
   "hash": "614d95af58a242e0d8ce16adc0fb75c365ed6c69bc86eb70da42eef173516af8"
  },
  "kernelspec": {
   "display_name": "Python 3 (ipykernel)",
   "language": "python",
   "name": "python3"
  },
  "language_info": {
   "codemirror_mode": {
    "name": "ipython",
    "version": 3
   },
   "file_extension": ".py",
   "mimetype": "text/x-python",
   "name": "python",
   "nbconvert_exporter": "python",
   "pygments_lexer": "ipython3",
   "version": "3.8.12"
  }
 },
 "nbformat": 4,
 "nbformat_minor": 5
}
