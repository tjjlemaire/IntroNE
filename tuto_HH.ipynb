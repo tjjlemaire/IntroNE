{
 "cells": [
  {
   "cell_type": "markdown",
   "metadata": {},
   "source": [
    "# Interactive tutorial: *the membrane potential in action*\n",
    "\n",
    "## Objectives\n",
    "- To develop an electrical engineer's perspective of the neuronal membrane and its dynamics (Hodgkin-Huxley model)\n",
    "- To understand the different membrane components involved in the generation of action potentials\n",
    "- To develop an intuition of how action potentials are sensed by extracellular recording devices\n",
    "\n",
    "*Side objective*: to illustrate the power of physical laws and computational models to help understand neural processes."
   ]
  },
  {
   "cell_type": "markdown",
   "metadata": {},
   "source": [
    "## Imports"
   ]
  },
  {
   "cell_type": "code",
   "execution_count": 1,
   "metadata": {},
   "outputs": [],
   "source": [
    "%matplotlib widget\n",
    "from numpy import exp\n",
    "from constants import MA_CM2_TO_UA_CM2\n",
    "from simutils import interactive_simulation\n",
    "from model import Model, vtrap"
   ]
  },
  {
   "cell_type": "markdown",
   "metadata": {},
   "source": [
    "## Model construction\n",
    "\n",
    "We are going to construct a pyramidal regular spiking neuron model as defined in [Pospischil et al. 2008](https://link.springer.com/article/10.1007/s00422-008-0263-8). This type of neuron constitutes the primary type of excitatory neurons in the mammalian neocortex.\n",
    "\n",
    "To better understand the involvement of the different membrane componentns in resulting membrane dynamics, we will construct this model step by step, one component at a time.\n",
    "\n",
    "At each stage, we will evaluate the model's behavior by observing its response to an applied electrical stimulus $I_{stim}$, mimicking the impact of synaptic input or artificial stimulation.   "
   ]
  },
  {
   "cell_type": "markdown",
   "metadata": {},
   "source": [
    "### Step 0: a cell membrane\n",
    "\n",
    "Let's start with the simplest possible model configuration: a \"naked\" cell membrane (i.e. without ion channels). This simplistic membrane can be represented electrically by a capacitor $C_m$, enforcing a potential difference $V_m = V_{in} - V_{out}$ between the intracellular and extracellular space, known as the ***membrane potential***. You can see below the equivalent electrical circuit of this representation:\n",
    "\n",
    "![circuit](imgs/circuits-01.png)\n",
    "\n",
    "As we apply an stimulating current, the membrane potential will change according to the following governing equation:\n",
    "\n",
    "$C_m \\frac{dV_m}{dt} = i_{stim}$"
   ]
  },
  {
   "cell_type": "code",
   "execution_count": null,
   "metadata": {},
   "outputs": [],
   "source": [
    "# Membrane capacitance (uF/cm2)\n",
    "Cm = 1.0\n",
    "\n",
    "# Create model and run interactive simulation\n",
    "model = Model(Cm=Cm)\n",
    "interactive_simulation(model.copy());"
   ]
  },
  {
   "cell_type": "markdown",
   "metadata": {},
   "source": [
    "#### Questions\n",
    "- *Try varying the input current and look at the evolution of the membrane potential: what do you observe?*"
   ]
  },
  {
   "cell_type": "markdown",
   "metadata": {},
   "source": [
    "### Step 1: a passive current\n",
    "\n",
    "Let's start further constructing our neuron by adding a first passive membrane current term, called the ***non-specific leakage current*** ($i_{Leak}$). Our equivalent electrical circuit now is:\n",
    "\n",
    "![circuit](imgs/circuits-02.png)\n",
    "\n",
    "And the system's governing equation becomes:\n",
    "\n",
    "$C_m \\frac{dV_m}{dt} = i_{stim} - i_{Leak}(V_m)$"
   ]
  },
  {
   "cell_type": "code",
   "execution_count": null,
   "metadata": {},
   "outputs": [],
   "source": [
    "ELeak = -70.3   # Reversal potential (mV)\n",
    "gLeak = 2.05e-5  # Maximal channel conductance (S/cm2)\n",
    "\n",
    "def i_Leak(Vm):\n",
    "    return gLeak * (Vm - ELeak) * MA_CM2_TO_UA_CM2  # uA/cm2\n",
    "\n",
    "# Update model and run interactive simulation\n",
    "model.add_current(i_Leak)\n",
    "interactive_simulation(model.copy());"
   ]
  },
  {
   "cell_type": "markdown",
   "metadata": {},
   "source": [
    "#### Questions\n",
    "- *In the absence of stimulus (I = 0), what can you tell about the effect of this current on the membrane?*\n",
    "- *As you vary the stimulus amplitude, which differences in voltage variations do you observe?*\n",
    "- *Which effect on membrane potential can you observe once the stimulus ends?* \n",
    "- *What do you conclude about the role of the leakage current on membrane potential?*"
   ]
  },
  {
   "cell_type": "markdown",
   "metadata": {},
   "source": [
    "### Step 2: a voltage-gated sodium current\n",
    "\n",
    "Our neuron membrane so far only exhibits passive responses to inputs, which is rather trivial. To obtain a nonlinear behavior, let's now add an active ***sodium current*** term ($i_{Na}$) representing voltage-gated sodium channels. Upon opening, theses channels trigger the entry of sodium ions inside the cell, following their concentration gradient.\n",
    "\n",
    "Such channels are typically composed of voltage-densitive subunits, called *gates*, that each switch between closed and open states at specific rates $\\alpha$ abd $\\beta$ upon variation of the membrane potential. This process is captured by a kinetic scheme:\n",
    "\n",
    "$\\alpha(V_m): C -> O$  (opening)\n",
    "\n",
    "$\\beta(V_m): O -> C$   (closing)\n",
    "\n",
    "For now, let us start implementing a sodium channel composed of 3 subunits of the same *M*-gate, which together regulate the channel conductance.\n",
    "\n",
    "Our equivalent electrical circuit now is:\n",
    "\n",
    "![circuit](imgs/circuits-03.png)\n",
    "\n",
    "And the system's governing equation becomes:\n",
    "\n",
    "$C_m \\frac{dV_m}{dt} = i_{stim} - [i_{Leak}(V_m) + i_{Na}(m, V_m)]$"
   ]
  },
  {
   "cell_type": "code",
   "execution_count": null,
   "metadata": {},
   "outputs": [],
   "source": [
    "ENa = 50.0       # Reversal potential (mV)\n",
    "gNa_bar = 0.056  # Maximal channel conductance (S/cm2)\n",
    "V_T = -56.2      # Spike threshold adjustment parameter (mV)\n",
    "\n",
    "def alpha_m(Vm):\n",
    "    return 0.32 * vtrap(13 - (Vm - V_T), 4)  # ms-1\n",
    "\n",
    "def beta_m(Vm):\n",
    "    return 0.28 * vtrap((Vm - V_T) - 40, 5)  # ms-1\n",
    "\n",
    "def dm_dt(m, Vm):\n",
    "    return alpha_m(Vm) * (1 - m) - beta_m(Vm) * m  # ms-1\n",
    "\n",
    "def m_inf(Vm):\n",
    "    return alpha_m(Vm) / (alpha_m(Vm) + beta_m(Vm))  # (-)\n",
    "\n",
    "def i_Na(m, Vm):\n",
    "    return gNa_bar * m**3 * (Vm - ENa) * MA_CM2_TO_UA_CM2  # uA/cm2\n",
    "\n",
    "# Update model and run interactive simulation\n",
    "model.add_current(i_Na)\n",
    "model.add_state(dm_dt, m_inf)\n",
    "interactive_simulation(model.copy());"
   ]
  },
  {
   "cell_type": "markdown",
   "metadata": {},
   "source": [
    "#### Questions\n",
    "- *For zero or negative stimulus (I <= 0), do you observe any difference in behavior?*\n",
    "- *What happens when you apply a positive stimulus (I > 0)?*\n",
    "- *What do you conclude about the role of sodium channels on membrane potential?*"
   ]
  },
  {
   "cell_type": "markdown",
   "metadata": {},
   "source": [
    "### Step 3: a voltage-gated potasium current \n",
    "\n",
    "Our neuron membrane now shows some depolarization ability, but reaches a plateau potential. To obtain a more dynamic behavior, let's now add an active ***potassium current*** term ($i_{K}$) representing voltage-gated potassium channels. Upon opening, theses channels trigger the exit of potassium ions outside the cell, following their concentration gradient.\n",
    "\n",
    "Let us define these potassium channels as being composed of 4 subunits of the same *N*-gate, which together regulate the channel conductance.\n",
    "\n",
    "Our equivalent electrical circuit now is:\n",
    "\n",
    "![circuit](imgs/circuits-04.png)\n",
    "\n",
    "And the system's governing equation becomes:\n",
    "\n",
    "$C_m \\frac{dV_m}{dt} = i_{stim} - [i_{Leak}(V_m) + i_{Na}(m, V_m) + i_{K}(n, V_m)]$"
   ]
  },
  {
   "cell_type": "code",
   "execution_count": null,
   "metadata": {},
   "outputs": [],
   "source": [
    "EK = -90.0      # Reversal potential (mV)\n",
    "gK_bar = 0.006  # Maximal channel conductance (S/cm2)\n",
    "\n",
    "def alpha_n(Vm):\n",
    "    return 0.032 * vtrap(15 - (Vm - V_T), 5)  # ms-1\n",
    "\n",
    "def beta_n(Vm):\n",
    "    return 0.5 * exp(-((Vm - V_T) - 10) / 40)  # ms-1\n",
    "\n",
    "def dn_dt(n, Vm):\n",
    "    return alpha_n(Vm) * (1 - n) - beta_n(Vm) * n  # ms-1\n",
    "\n",
    "def n_inf(Vm):\n",
    "    return alpha_n(Vm) / (alpha_n(Vm) + beta_n(Vm))  # (-)\n",
    "\n",
    "def i_K(n, Vm):\n",
    "    return gK_bar * n**4 * (Vm - EK) * MA_CM2_TO_UA_CM2  # uA/cm2\n",
    "\n",
    "# Update model and run interactive simulation\n",
    "model.add_current(i_K)\n",
    "model.add_state(dn_dt, n_inf)\n",
    "interactive_simulation(model.copy());"
   ]
  },
  {
   "cell_type": "markdown",
   "metadata": {},
   "source": [
    "### Questions\n",
    "- *As you apply a positive stimulus, do you observe any difference in behavior?*\n",
    "- *What do you conclude about the role of potassium channels on membrane potential?*\n",
    "- *Is this membrane configuration enough to elicit multiple \"action potentials\" (or \"spikes\")?*"
   ]
  },
  {
   "cell_type": "markdown",
   "metadata": {},
   "source": [
    "### Step 4: a sodium inactivation gate\n",
    "\n",
    "While the addition of potassium current offers some counterweight to our sodium current, our membrane still stabilizes around a plateau potential upon stimulation. To finally obtain a so-called \"spiking\" behavior, we must ensure repolarization. To this aim, let's add a so-called **inactivation gate** (*H*) to our sodium channels.\n",
    "\n",
    "Our governing equation is therefore slightly modified:\n",
    "\n",
    "$C_m \\frac{dV_m}{dt} = i_{stim} - [i_{Leak}(V_m) + i_{Na}(m, h, V_m) + i_{K}(n, V_m)]$"
   ]
  },
  {
   "cell_type": "code",
   "execution_count": null,
   "metadata": {},
   "outputs": [],
   "source": [
    "def alpha_h(Vm):\n",
    "    return 0.128 * exp(-((Vm - V_T) - 17) / 18)  # ms-1\n",
    "\n",
    "def beta_h(Vm):\n",
    "    return 4 / (1 + exp(-((Vm - V_T) - 40) / 5))  # ms-1\n",
    "\n",
    "def dh_dt(h, Vm):\n",
    "    return alpha_h(Vm) * (1 - h) - beta_h(Vm) * h\n",
    "\n",
    "def h_inf(Vm):\n",
    "    return alpha_h(Vm) / (alpha_h(Vm) + beta_h(Vm))\n",
    "\n",
    "def i_Na(m, h, Vm):\n",
    "    return gNa_bar * m**3 * h * (Vm - ENa) * MA_CM2_TO_UA_CM2  # uA/cm2\n",
    "\n",
    "# Update model and run interactive simulation\n",
    "model.add_state(dh_dt, h_inf)\n",
    "model.update_current(i_Na)\n",
    "interactive_simulation(model.copy());"
   ]
  },
  {
   "cell_type": "markdown",
   "metadata": {},
   "source": [
    "### Questions\n",
    "- *As you apply a positive stimulus, do you observe any difference in behavior?*\n",
    "- *What do you conclude about the role of sodium inactivation gates on membrane dynamics?*"
   ]
  },
  {
   "cell_type": "markdown",
   "metadata": {},
   "source": [
    "## Summary\n",
    "\n",
    "By the end of this tutorial, you should have developed a clear intuition of the key components involved in the intricate neuronal membrane dynamics. In light of this, *can you describe, in your own words, the different phases of an action potential?*\n",
    "\n",
    "YOUR DESCRIPTION:"
   ]
  }
 ],
 "metadata": {
  "kernelspec": {
   "display_name": "introne",
   "language": "python",
   "name": "python3"
  },
  "language_info": {
   "codemirror_mode": {
    "name": "ipython",
    "version": 3
   },
   "file_extension": ".py",
   "mimetype": "text/x-python",
   "name": "python",
   "nbconvert_exporter": "python",
   "pygments_lexer": "ipython3",
   "version": "3.8.12"
  }
 },
 "nbformat": 4,
 "nbformat_minor": 4
}
