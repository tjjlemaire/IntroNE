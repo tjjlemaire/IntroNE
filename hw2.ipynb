{
 "cells": [
  {
   "cell_type": "markdown",
   "id": "efedd8ab-5b64-40d6-99d8-ebebfea7c66b",
   "metadata": {},
   "source": [
    "# Homework 2\n",
    "\n",
    "In this homework, we will once again turn to computational modeling and simulations to better understand the photo-electrical interplay underlying the optogenetic stimulation of neurons. More specifically, you will be tasked to:\n",
    "- derive the relationship between photo-stimulation parameters and photo-induced current by the Channelrhodopsin-2 (ChR2) excitatory opsin\n",
    "- evaluate the dependency of neural response metrics on photo-stimulation parameters\n",
    "- re-evaluate your predictions in light or a more realistic ChR2 current model "
   ]
  },
  {
   "cell_type": "markdown",
   "id": "6ac7077f-3dfb-481b-8160-305c4b5bbbbd",
   "metadata": {},
   "source": [
    "## Imports"
   ]
  },
  {
   "cell_type": "code",
   "execution_count": null,
   "id": "09c29fae-ebe2-40d8-ab7f-14c8c4b56a13",
   "metadata": {
    "tags": []
   },
   "outputs": [],
   "source": [
    "import numpy as np\n",
    "import matplotlib.pyplot as plt\n",
    "from stimulus import CurrentPulseTrain, LightPulseTrain\n",
    "from model import PyramidalNeuron\n",
    "from simutils import simulate, detect_spikes\n",
    "from constants import *"
   ]
  },
  {
   "cell_type": "markdown",
   "id": "190d9dda-ad53-40b4-b4b0-dcdb8d15ac6b",
   "metadata": {
    "tags": []
   },
   "source": [
    "## Provided material"
   ]
  },
  {
   "cell_type": "markdown",
   "id": "2116617c-9163-4d16-9cac-42547b43f1cf",
   "metadata": {},
   "source": [
    "### Global simulation parameters\n",
    "\n",
    "The parameters governing temporal stimulus application are meant to be kept constant throughout your simulations:"
   ]
  },
  {
   "cell_type": "code",
   "execution_count": null,
   "id": "4c0830e5-1ee3-4e1c-8049-1b69bbb1819f",
   "metadata": {},
   "outputs": [],
   "source": [
    "tstart = 20.  # stimulus start time (ms)\n",
    "tpulse = 200.  # pulse duration (ms)\n",
    "tstop = 250.  # total simulation time (ms) "
   ]
  },
  {
   "cell_type": "markdown",
   "id": "ce4204e1-c001-4ef0-b887-aac770f6d320",
   "metadata": {},
   "source": [
    "Here's an example stimulus illustrating the temporal pattern of stimulus application:"
   ]
  },
  {
   "cell_type": "code",
   "execution_count": null,
   "id": "09f39531-0945-4fda-9510-ed82e9d87167",
   "metadata": {},
   "outputs": [],
   "source": [
    "example_stim = CurrentPulseTrain(tpulse=tpulse, tstart=tstart)\n",
    "fig = example_stim.plot(tstop=tstop)"
   ]
  },
  {
   "cell_type": "markdown",
   "id": "7a1bcf0f-a04a-4d18-b839-12fac8edef87",
   "metadata": {
    "tags": []
   },
   "source": [
    "### Point-neuron model\n",
    "\n",
    "Our mathematical base to represent neural membrane dynamics is a point-neuron model of a cortical pyramidal neuron composed of various membrane components:\n",
    "- a membrane capacitance ($C_m = 1\\ uF/cm^2$)\n",
    "- a leakage current $i_{Leak}$ dictating the *resting membrane potential*\n",
    "- a voltage-gated sodium current $i_{Na}$ (with 3 activation gates *M* and 1 inactivation gate *H*) governing *depolarization*\n",
    "- a voltage-gated, delayed-rectifier potassium current $i_K$ (with 4 activation gates *N*) governing *repolarization*\n",
    "- a voltage-gated, slow non-inactivating potassium current $i_M$ (with 1 activation gate *P*) governing *firing rate adaptation* during long spike trains\n",
    "\n",
    "Its electrical circuit representation is:\n",
    "\n",
    "![circuit](imgs/circuits-06.png)\n",
    "\n",
    "And the system's governing equation is:\n",
    "\n",
    "$$C_m \\frac{dV_m}{dt} = i_{stim} - [i_{Leak}(V_m) + i_{Na}(m, V_m) + i_{K}(n, V_m) + i_{M}(p, V_m)]$$\n",
    "\n",
    "which can be summarized as:\n",
    "\n",
    "$$C_m \\frac{dV_m}{dt} = i_{stim} - i_{membrane}(V_m)$$\n",
    "\n",
    "where $i_{membrane}(V_m)$ represents the total ionic current flowing through the membrane.\n",
    "\n",
    "Let's instantiate our neuron model:"
   ]
  },
  {
   "cell_type": "code",
   "execution_count": null,
   "id": "b4292a10-7cad-4440-ade1-8262d4ef5e0c",
   "metadata": {},
   "outputs": [],
   "source": [
    "model = PyramidalNeuron()\n",
    "print(model)"
   ]
  },
  {
   "cell_type": "markdown",
   "id": "4d4b7af6-c886-4865-aa7e-34244e88b785",
   "metadata": {},
   "source": [
    "As a reminder, here is the response of the neuron model under electrical stimulation:"
   ]
  },
  {
   "cell_type": "code",
   "execution_count": null,
   "id": "a9b3085d-6122-4488-b8e9-f6db8bd5e604",
   "metadata": {},
   "outputs": [],
   "source": [
    "current_stim = CurrentPulseTrain(I=10.0, tpulse=tpulse, tstart=tstart)\n",
    "data = simulate(model, tstop, stim=current_stim)\n",
    "fig = data.plot_all(model, stim=current_stim)"
   ]
  },
  {
   "cell_type": "markdown",
   "id": "b6e111a0-659e-46eb-9ab5-7af505b28056",
   "metadata": {},
   "source": [
    "### Light pulse train stimulus\n",
    "\n",
    "You are also provided with a `LightPulseTrain` class representing a light pulse train stimulus. This class can be instantiated with the following parameters:\n",
    "- `λ`: the optical wavelength (nm)\n",
    "- `I`: the light intensity (mW/mm2)\n",
    "- `tpulse`: the pulse duration (ms), given to you above\n",
    "- `tstart`: the time of the first pulse onset (ms), given to you above\n",
    "\n",
    "For the sake of this homework, we will only consider the case of 1-photon stimulation and therefore keep the incident light wavelength constant at λ = 480 nm:"
   ]
  },
  {
   "cell_type": "code",
   "execution_count": null,
   "id": "2e5d04b0-5f09-4fe7-94d6-87c7b60fcb78",
   "metadata": {},
   "outputs": [],
   "source": [
    "λ = 480.  # incident light wavelength (nm)"
   ]
  },
  {
   "cell_type": "markdown",
   "id": "2486b8e9-e334-496d-ab07-c00b979eb061",
   "metadata": {},
   "source": [
    "Here is an example showing you how to instantiate a stimulus with a specific intensity and visualize its time course:"
   ]
  },
  {
   "cell_type": "code",
   "execution_count": null,
   "id": "317b9aa9-bc35-4be2-ba84-2fc2c42daf66",
   "metadata": {},
   "outputs": [],
   "source": [
    "I = 30.  # light intensity (mW/mm2)\n",
    "light_stim = LightPulseTrain(λ=λ, I=I, tpulse=tpulse, tstart=tstart)\n",
    "fig = light_stim.plot()"
   ]
  },
  {
   "cell_type": "markdown",
   "id": "899a5905-bfa2-4d12-b24a-6453a782c0ae",
   "metadata": {},
   "source": [
    "Let's see what happens when we apply this stimulus to our neuron:"
   ]
  },
  {
   "cell_type": "code",
   "execution_count": null,
   "id": "64129289-3c95-41df-b802-c94b1c453be4",
   "metadata": {},
   "outputs": [],
   "source": [
    "data = simulate(model, tstop, stim=light_stim)\n",
    "fig = data.plot_all(model, stim=light_stim)"
   ]
  },
  {
   "cell_type": "markdown",
   "id": "20e6f5f1-6600-4746-a24c-ac9529812b6b",
   "metadata": {},
   "source": [
    "Expectedly, our neuron model comprising only the traditional set of voltage-sensitive ion channels **does not** respond to photo-stimulation."
   ]
  },
  {
   "cell_type": "markdown",
   "id": "a33210ef-cda9-4afc-b9ab-57eeef766317",
   "metadata": {},
   "source": [
    "## Task 1 (7 pts): implement a photostimulus-dependent Channelrhodopsin2 membrane current\n",
    "\n",
    "In order to simulate photo-induced neural responses, we must add a photo-sensitive Channelrodopsin2 (ChR2) depolarizing current to our model. As a first approximation, we will consider a simplified case and assume that the ChR2 current is a linear function of the photon absorption rate per ChR2 molecule, and thus of the photostimulus properties. \n",
    "\n",
    "In order to properly compute this current, we first need to know the rate at which the light stimulus stimulus is absorbed by ChR2 proteins.\n",
    "\n",
    "Hence, your first task is to **implement 4 transduction functions that handle the progressive conversion of a light stimulus to a photon absorption rate per ChR2 protein**. These functions can be represented in the following transduction chain:\n",
    "\n",
    "**`(λ, I)`** -> `energy_per_photon` -> `photon_flux_density` -> `incident_photon_rate` -> `photon_absorption_rate` -> `i_Chr`"
   ]
  },
  {
   "cell_type": "markdown",
   "id": "ef09aeff-073a-497c-8d6e-a99ba1672f30",
   "metadata": {},
   "source": [
    "First, you need to **implement a function computing the energy per photon for a given light wavelength and intensity** (hint: take a look at the recitation slides from the last weeks).\n",
    "\n",
    "*Hint: the constants `H` and `C_VACUUM` are available to use.*"
   ]
  },
  {
   "cell_type": "code",
   "execution_count": null,
   "id": "12ffe076-6c4f-4cbb-912e-24613a73832a",
   "metadata": {},
   "outputs": [],
   "source": [
    "def energy_per_photon(λ):\n",
    "    ''' \n",
    "    Energy per photon.\n",
    "    \n",
    "    :param λ: light wavelength (nm)\n",
    "    :return: energy per photon (J/photon) \n",
    "    '''\n",
    "    ### YOUR CODE GOES HERE"
   ]
  },
  {
   "cell_type": "markdown",
   "id": "f2521f30-2700-47e2-b1f9-d1b7bf9a22ac",
   "metadata": {},
   "source": [
    "Second, using the previous function, you then need to **implement a function computing the photon flux density (i.e. number of incident photons per unit area and unit time) for a given light wavelength and intensity**:    "
   ]
  },
  {
   "cell_type": "code",
   "execution_count": null,
   "id": "2e0ff6ab-fa07-446a-bb3c-ea18b4f8cccb",
   "metadata": {},
   "outputs": [],
   "source": [
    "def photon_flux_density(λ, I):\n",
    "    '''\n",
    "    Photon flux density.\n",
    "    \n",
    "    :param λ: light wavelength (nm)\n",
    "    :param I: light intensity (mW/mm2)\n",
    "    :return: photon flux per unit area (photons/m2.ms)\n",
    "    '''\n",
    "    ### YOUR CODE GOES HERE"
   ]
  },
  {
   "cell_type": "markdown",
   "id": "c1ebe682-8d42-4a5a-9b8b-26cd5136b68b",
   "metadata": {},
   "source": [
    "Third, using the previous function, you must now **implement a function computing the incident photon rate per ChR2 molecule (i.e. the number of incident photons per ChR2 molecule per unit time) for a given light wavelength and intensity**. To this effect, you are provided with `S_ChR2`, the surface area of the rhodopsin retinal compound where photons are absorbed."
   ]
  },
  {
   "cell_type": "code",
   "execution_count": null,
   "id": "a73ff1cb-ebbb-4d69-9e9f-a8f0960019c2",
   "metadata": {},
   "outputs": [],
   "source": [
    "S_ChR2 = 1.2e-20  # cross-section area of rhodopsin retinal compound (m2)\n",
    "\n",
    "def incident_photon_rate(λ, I):\n",
    "    '''\n",
    "    Number of incident photons per ChR2 per unit time.\n",
    "    \n",
    "    :param λ: light wavelength (nm)\n",
    "    :param I: light intensity (mW/mm2)\n",
    "    :return: incident photons / (ChR2 molecule . ms)\n",
    "    '''\n",
    "    ### YOUR CODE GOES HERE"
   ]
  },
  {
   "cell_type": "markdown",
   "id": "74f96ce6-904d-44fe-8fa0-8beb4b9c98c2",
   "metadata": {},
   "source": [
    "Fourth, using the previous function, you are tasked to **implement a function that computes the photon absorption rate per ChR2 molecule for a given light wavelength and intensity**. To that extent, you are provided with `wloss`, a factor representing the fraction of incidental photons lost due to various factors (intrinsic to the channel, but also due to scattering and absorption phenomena)."
   ]
  },
  {
   "cell_type": "code",
   "execution_count": null,
   "id": "f66bb208-cae4-45bc-a063-0b8f6b1398fe",
   "metadata": {},
   "outputs": [],
   "source": [
    "wloss = 0.5  # incidental photons loss factor\n",
    "\n",
    "def photon_absorption_rate(λ, I):\n",
    "    '''\n",
    "    Number of photons absorbed per ChR2 per unit time.\n",
    "    \n",
    "    :param λ: light wavelength (nm)\n",
    "    :param I: light intensity (mW/mm2)\n",
    "    :return: photons absorbed / (ChR2 molecule . ms)\n",
    "    '''\n",
    "    ### YOUR CODE GOES HERE"
   ]
  },
  {
   "cell_type": "markdown",
   "id": "09f8ac00",
   "metadata": {},
   "source": [
    "Finally, using the function above, you need to **implement the function `i_Chr` that computes the photo-induced ChR2 current for a given membrane potential `Vm` and specific photo-stimulation parameters (`λ` and `I`)**.\n",
    "\n",
    "To constrain the problem, you can make the following assumptions:\n",
    "- Under macrosocopic approximation, the ChR2 membrane conductance $g_{ChR}$ at time $t$ is the product of a maximal conductance $\\overline{g_{ChR}}$ (in $S/cm^2$), the ChR2 photon absorption rate at time $t$, and a modulation factor $w$.\n",
    "- Once open, ChR2 channels induce a non-specific depolarizing current with a specific reversal potential $E_{ChR} = 0 mV$.\n",
    "- The product `photon_absorption_rate * w` can be considered *unit-less* in the current computation."
   ]
  },
  {
   "cell_type": "code",
   "execution_count": null,
   "id": "f63e491e-4e03-4b76-be6a-310938fe7643",
   "metadata": {},
   "outputs": [],
   "source": [
    "EChR = 0.  # reversal potential (mV)\n",
    "gChR_bar = .0002  # maximal channel conductance (S/cm2)\n",
    "w = 10  # modulation factor\n",
    "\n",
    "def i_Chr(Vm, λ, I):\n",
    "    '''\n",
    "    Voltage and light-dependent ChR2 current density.\n",
    "\n",
    "    :param Vm: membrane potential (mV)\n",
    "    :param λ: light wavelength (nm)\n",
    "    :param I: light intensity (mW/mm2)\n",
    "    :return: ChR2 current density (uA/cm2)\n",
    "    '''\n",
    "    ### YOUR CODE GOES HERE"
   ]
  },
  {
   "cell_type": "markdown",
   "id": "0b0e43ec-b61d-4859-bab2-da3e7020f348",
   "metadata": {},
   "source": [
    "Now that you have implemented these functions, **evaluate and visalize the induced ChR2 transmembrane current (in absolute value) for a range of input light intensities** when the neuron's membrane potential is at rest.\n",
    "\n",
    "*Hint: you can get the neuron's resting membrane potential using the `model.get_Veq` method.* "
   ]
  },
  {
   "cell_type": "code",
   "execution_count": null,
   "id": "d6fbaf83-26a3-4f40-bc4f-b90b70112003",
   "metadata": {},
   "outputs": [],
   "source": [
    "intensities = np.logspace(-2, 1.5, 20)  # intensities (mW/mm2)\n",
    "\n",
    "### YOUR CODE GOES HERE"
   ]
  },
  {
   "cell_type": "markdown",
   "id": "d524de8c-dc62-4464-8c47-73fe5616fd4e",
   "metadata": {},
   "source": [
    "Let's now add this stimulus-dependent membrane current to our neuron model ..."
   ]
  },
  {
   "cell_type": "code",
   "execution_count": null,
   "id": "21a3718d-c1d5-4930-9953-1342b8c1d261",
   "metadata": {},
   "outputs": [],
   "source": [
    "model.add_stimdep_current(i_Chr)\n",
    "print(model)"
   ]
  },
  {
   "cell_type": "markdown",
   "id": "d86372c5-de57-42bc-b74d-fa1ac001dc30",
   "metadata": {},
   "source": [
    "... and re-evaluate its response to a typical light pulse:"
   ]
  },
  {
   "cell_type": "code",
   "execution_count": null,
   "id": "753c041c-88d9-43c5-ab9b-64c740391573",
   "metadata": {},
   "outputs": [],
   "source": [
    "data = simulate(model, tstop, stim=light_stim)\n",
    "fig = data.plot_all(model, stim=light_stim)"
   ]
  },
  {
   "cell_type": "markdown",
   "id": "d0bae3c2-b399-4dac-a7d4-a935a3a9297d",
   "metadata": {},
   "source": [
    "## Task 2 (7 pts): evaluate the dependence of response metrics as a function of stimulus intensity\n",
    "\n",
    "Now that you have enriched the neuron model with a light-gated Channelrhodopsin current, we can evaluate the influence of photo-stimulation parameters on induced neural responses. In particular, we will focus on 2 particular response metrics:\n",
    "- the latency of the first induced spike with respect to the stimulus onset\n",
    "- the number of elicited spikes within the stimulus period (a proxy for the response strength)\n",
    "\n",
    "In order to properly evaluate these, you must first **implement a `get_latency_and_nspikes` function that will run a simulation with a specific stimulus intensity and extract the response latency and number of spikes (within the stimulus window) from simulation results**.\n",
    "\n",
    "*Hint: you can make use of the detect_spikes function:*"
   ]
  },
  {
   "cell_type": "code",
   "execution_count": null,
   "id": "19333335-bfae-4e3b-9539-d32f29cf1487",
   "metadata": {},
   "outputs": [],
   "source": [
    "help(detect_spikes)"
   ]
  },
  {
   "cell_type": "code",
   "execution_count": null,
   "id": "31c1a6e4-47c3-47ba-ba1e-799ddb1c5a16",
   "metadata": {},
   "outputs": [],
   "source": [
    "def get_latency_and_nspikes(model, I):\n",
    "    '''\n",
    "    Run simulation with specific light intensity and extract the neuron's\n",
    "    response latency and number of elicited spikes.\n",
    "    \n",
    "    :param model: neuron model object\n",
    "    :param I: light intensity (mW/mm2)\n",
    "    :return: (nspikes, latency) tuple where:\n",
    "        - latency = latency to first spike (in ms) or np.nan (if no spike detected)\n",
    "        - nspikes = number of detected spikes or np.nan (if no spike detected)\n",
    "    '''\n",
    "    ### YOUR CODE GOES HERE"
   ]
  },
  {
   "cell_type": "markdown",
   "id": "b8f10392-aec3-49b0-b216-8dbf048be81b",
   "metadata": {},
   "source": [
    "Finally, you can use the implemented `get_latency_and_nspikes` function to **evaluate the variations in response latency and response strength (i.e. normalized number of spikes) over a range of stimulus intensities (defined above)**. You should **report the results as 2 dependency curves**:"
   ]
  },
  {
   "cell_type": "code",
   "execution_count": null,
   "id": "397c4ce0-45de-476f-88e5-0b64ee13b627",
   "metadata": {},
   "outputs": [],
   "source": [
    "### YOUR CODE GOES HERE"
   ]
  },
  {
   "cell_type": "markdown",
   "id": "b6be03f0",
   "metadata": {},
   "source": [
    "**Discuss how the observed response metrics have changed, and how they relate to the experimental results of [Gefen et al. (2013)](https://doi.org/10.1038/ncomms2500), Figure 3d,e**."
   ]
  },
  {
   "cell_type": "markdown",
   "id": "8884e898",
   "metadata": {},
   "source": [
    "YOUR ANSWER GOES HERE"
   ]
  },
  {
   "cell_type": "markdown",
   "id": "60ef3938",
   "metadata": {},
   "source": [
    "## Task 3 (bonus, 3 pts): implement a more realistic Channelrodopsin membrane current\n",
    "\n",
    "So far, we've considered the simple case of a ChR2 current whose conductance is directly proportional to the ChR2 photon absorption rate. However in reality, the influence of photon absorption on ChR2 conductance is more complex, and can be captured by a multi-state kinetic scheme.\n",
    "\n",
    "For the purpose of this homework, we will assume that ChR2 can transition between 3 different states (see [Stefanescu 2013](https://doi.org/10.1007/s11538-013-9888-4) paper, section 2.2.1):\n",
    "- In the absence of optostimulation, ChR2 molecules are assumed to be in state in a closed state *C*.\n",
    "- Upon illumination, the ChR2 molecules undergo conformational changes and transition to an open state *O*\n",
    "- ChR2 molecules then spontaneously decays into a closed but desensitized state *D*, in which they are not available to photoswitch on illumination.\n",
    "- Finally, following a prolonged recovery time period, which is much slower than the time scales involved in the light induced `C -> O` and the spontaneous `O -> D` transitions, the protein returns to the conformation of the closed state *C*.\n",
    "\n",
    "This 3-states configuration can be captured by the following transition rates kinetic model:\n",
    "\n",
    "![3-states_model](imgs/3states_model.png)\n",
    "\n",
    "with, at all times: $C + O + D = 1$.\n",
    "\n",
    "In this kinetic model, the desensitization rate $G_d$ and the recovery rate $G_r$ are both constants:   "
   ]
  },
  {
   "cell_type": "code",
   "execution_count": null,
   "id": "30f363f7-a94d-4e44-9534-27f6bcdc7a36",
   "metadata": {},
   "outputs": [],
   "source": [
    "Gd = 1e-2  # rate constant for O -> D transition (ms-1)\n",
    "Gr = 1e-4  # rate constant for D -> C transition (ms-1)"
   ]
  },
  {
   "cell_type": "markdown",
   "id": "cee42dc0-c948-4d2c-8639-0d3f491505a7",
   "metadata": {},
   "source": [
    "while the opening rate $P$ depends on the photon absorption rate (and thus on the stimulus characteristic) as well as the quantum yield of photon absorption:"
   ]
  },
  {
   "cell_type": "code",
   "execution_count": null,
   "id": "fd045dbe-5cc2-4a9b-9932-53ef5815a650",
   "metadata": {},
   "outputs": [],
   "source": [
    "ε = 0.5  # quantum efficiency of photon absorbtion\n",
    "\n",
    "def P(λ, I):\n",
    "    ''' \n",
    "    Light-dependent excitation rate (for C -> O transition).\n",
    "    \n",
    "    :param λ: light wavelength (nm)\n",
    "    :param I: light intensity (mW/mm2)\n",
    "    :return: light-dependent excitation rate (ms-1)\n",
    "    '''\n",
    "    return ε * photon_absorption_rate(λ, I)  # ms-1"
   ]
  },
  {
   "cell_type": "markdown",
   "id": "3b436e73-024d-477c-8258-2a48f8aa0287",
   "metadata": {},
   "source": [
    "Based on the kinetic model description, **implement 2 functions `do_dt` and `dd_dt`, computing the time-derivatives of the proportion of ChR2 channels in open and desensitized states**, respectively:"
   ]
  },
  {
   "cell_type": "code",
   "execution_count": null,
   "id": "f77594a2-9f3d-45e2-a7c1-9e97660e5866",
   "metadata": {},
   "outputs": [],
   "source": [
    "def do_dt(o, d, λ, I):\n",
    "    '''\n",
    "    Temporal evolution of the proportion of ChR2 channels in open state.\n",
    "\n",
    "    :param o: proportion of channels in open state\n",
    "    :param d: proportion of channels in desensitized state\n",
    "    :param λ: light wavelength (nm)\n",
    "    :param I: light intensity (mW/mm2)\n",
    "    :return: time derivative of the proportion of channels in open state (ms-1)\n",
    "    '''\n",
    "    ### YOUR CODE GOES HERE\n",
    "    \n",
    "def dd_dt(o, d, λ, I):\n",
    "    '''\n",
    "    Temporal evolution of the proportion of ChR2 channels in desensitized state.\n",
    "\n",
    "    :param o: proportion of channels in open state\n",
    "    :param d: proportion of channels in desensitized state\n",
    "    :return: time derivative of the proportion of channels in desensitized state (ms-1)\n",
    "    '''\n",
    "    ### YOUR CODE GOES HERE"
   ]
  },
  {
   "cell_type": "markdown",
   "id": "dea498c9-a9e3-41fe-ba53-a37abe020a8b",
   "metadata": {},
   "source": [
    "Based on the above implementations, **implement 2 functions `do_dt` and `dd_dt`, computing the steady-state proportions of ChR2 channels in open and desensitized states**, respectively. A few hints:\n",
    "- Think of what a steady-state means in terms of variation over time\n",
    "- Use pen and paper to solve the appropriate equations\n",
    "- Think of a way to handle the special case where $I = 0$\n",
    "- Look at equivalent implementations in the `tuto_HH.ipynb` notebook for reference."
   ]
  },
  {
   "cell_type": "code",
   "execution_count": null,
   "id": "220ccda9-0ab1-46ca-9dbb-d7550ff77356",
   "metadata": {},
   "outputs": [],
   "source": [
    "def o_inf(λ, I):\n",
    "    '''\n",
    "    Steady-state proportion of ChR2 channels in open state.\n",
    "    \n",
    "    :param λ: light wavelength (nm)\n",
    "    :param I: light intensity (mW/mm2)\n",
    "    :return: steady-state proportion\n",
    "    '''\n",
    "    ### YOUR CODE GOES HERE\n",
    "\n",
    "def d_inf(λ, I):\n",
    "    '''\n",
    "    Steady-state proportion of ChR2 channels in desensitized state\n",
    "\n",
    "    :param I: light intensity (mW/mm2)\n",
    "    :return: steady-state proportion\n",
    "    '''\n",
    "    ### YOUR CODE GOES HERE"
   ]
  },
  {
   "cell_type": "markdown",
   "id": "3c5a035d-f5e4-4ccb-9856-81de74698311",
   "metadata": {},
   "source": [
    "Now that you have a model of how ChR2 channels will open/close in response to a photo-stimulus, you can **update the formula of the photo-induced transmembrane ionic current `i_Chr`** accordingly.\n",
    "\n",
    "For this updated configuration, you can assume the following:\n",
    "- `i_Chr` now behaves as a state-dependent current (as opposed to a stimulus-dependent current), and therefore takes `o`, the proportion of open channels, as an input.\n",
    "- Under macrosocopic approximation, the ChR2 membrane conductance $g_{ChR}$ at time $t$ is the product of a maximal conductance $\\overline{g_{ChR}}$ and the proportion of open ChR2 channels at time $t$, **without a modulation factor**.\n",
    "- Identically as before, ChR2 channels induce a non-specific depolarizing current with a specific reversal potential $E_{ChR} = 0 mV$."
   ]
  },
  {
   "cell_type": "code",
   "execution_count": null,
   "id": "eabe9d1a",
   "metadata": {},
   "outputs": [],
   "source": [
    "def i_Chr(o, Vm):\n",
    "    '''\n",
    "    Voltage and light-dependent ChR2 current density.\n",
    "\n",
    "    :param o: proportion of channels in open state\n",
    "    :param Vm: membrqne potential (mV)\n",
    "    :return: ChR2 current density (uA/cm2)\n",
    "    '''\n",
    "    ### YOUR CODE GOES HERE"
   ]
  },
  {
   "cell_type": "markdown",
   "id": "015047b0",
   "metadata": {},
   "source": [
    "Let's now replace the simple ChR2 curent by this more realistic version in our neuron model ..."
   ]
  },
  {
   "cell_type": "code",
   "execution_count": null,
   "id": "bce62dbd",
   "metadata": {},
   "outputs": [],
   "source": [
    "model.remove_stimdep_current('i_Chr')\n",
    "model.add_stimdep_state(do_dt, o_inf, ['λ', 'I'])\n",
    "model.add_stimdep_state(dd_dt, d_inf, ['λ', 'I'])\n",
    "model.add_current(i_Chr)\n",
    "print(model)"
   ]
  },
  {
   "cell_type": "markdown",
   "id": "627c0fcb",
   "metadata": {},
   "source": [
    "... and re-evaluate its response to a typical light pulse:"
   ]
  },
  {
   "cell_type": "code",
   "execution_count": null,
   "id": "ca4a147a",
   "metadata": {},
   "outputs": [],
   "source": [
    "data = simulate(model, tstop, stim=light_stim)\n",
    "fig = data.plot_all(model, stim=light_stim)"
   ]
  },
  {
   "cell_type": "markdown",
   "id": "7e6be153",
   "metadata": {},
   "source": [
    "Finally, you can use the implemented `get_latency_and_nspikes` function to **re-evaluate the variations in response latency and response strength (i.e. normalized number of spikes) over a range of stimulus intensities with this new model**. As before, you can **report the results as 2 dependency curves**:"
   ]
  },
  {
   "cell_type": "code",
   "execution_count": null,
   "id": "083dcd1d",
   "metadata": {},
   "outputs": [],
   "source": [
    "### YOUR CODE GOES HERE"
   ]
  },
  {
   "cell_type": "markdown",
   "id": "36b656ce",
   "metadata": {},
   "source": [
    "**Discuss how the observed response metrics have changed, and how they relate to the experimental results of [Gefen et al. (2013)](https://doi.org/10.1038/ncomms2500), Figure 3d,e**."
   ]
  },
  {
   "cell_type": "markdown",
   "id": "d8f6752d",
   "metadata": {},
   "source": [
    "YOUR ANSWER GOES HERE"
   ]
  }
 ],
 "metadata": {
  "kernelspec": {
   "display_name": "Python 3 (ipykernel)",
   "language": "python",
   "name": "python3"
  },
  "language_info": {
   "codemirror_mode": {
    "name": "ipython",
    "version": 3
   },
   "file_extension": ".py",
   "mimetype": "text/x-python",
   "name": "python",
   "nbconvert_exporter": "python",
   "pygments_lexer": "ipython3",
   "version": "3.8.12"
  }
 },
 "nbformat": 4,
 "nbformat_minor": 5
}
